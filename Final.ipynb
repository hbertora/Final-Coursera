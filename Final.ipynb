{
 "cells": [
  {
   "cell_type": "markdown",
   "metadata": {},
   "source": [
    "# Initialization and reproductibility"
   ]
  },
  {
   "cell_type": "code",
   "execution_count": 2,
   "metadata": {},
   "outputs": [],
   "source": [
    "library(rattle)\n",
    "library(caret)\n",
    "library(rpart)\n",
    "library(rpart.plot)\n",
    "library(corrplot)\n",
    "library(randomForest)\n",
    "library(RColorBrewer)\n",
    "library(party)"
   ]
  },
  {
   "cell_type": "code",
   "execution_count": 3,
   "metadata": {},
   "outputs": [],
   "source": [
    "set.seed(135)\n",
    "setwd(\"~/Practical-Machine-Learning-Johns-Hopkins-Bloomberg-School-of-Public-Health-Coursera\")"
   ]
  },
  {
   "cell_type": "markdown",
   "metadata": {},
   "source": [
    "# Getting Data"
   ]
  },
  {
   "cell_type": "code",
   "execution_count": 4,
   "metadata": {},
   "outputs": [],
   "source": [
    "trainFile = \"./data/pml-training.csv\"\n",
    "testFile  = \"./data/pml-testing.csv\"\n"
   ]
  },
  {
   "cell_type": "code",
   "execution_count": 5,
   "metadata": {},
   "outputs": [
    {
     "data": {
      "text/html": [
       "<ol class=list-inline>\n",
       "\t<li>19622</li>\n",
       "\t<li>160</li>\n",
       "</ol>\n"
      ],
      "text/latex": [
       "\\begin{enumerate*}\n",
       "\\item 19622\n",
       "\\item 160\n",
       "\\end{enumerate*}\n"
      ],
      "text/markdown": [
       "1. 19622\n",
       "2. 160\n",
       "\n",
       "\n"
      ],
      "text/plain": [
       "[1] 19622   160"
      ]
     },
     "metadata": {},
     "output_type": "display_data"
    },
    {
     "data": {
      "text/html": [
       "<ol class=list-inline>\n",
       "\t<li>20</li>\n",
       "\t<li>160</li>\n",
       "</ol>\n"
      ],
      "text/latex": [
       "\\begin{enumerate*}\n",
       "\\item 20\n",
       "\\item 160\n",
       "\\end{enumerate*}\n"
      ],
      "text/markdown": [
       "1. 20\n",
       "2. 160\n",
       "\n",
       "\n"
      ],
      "text/plain": [
       "[1]  20 160"
      ]
     },
     "metadata": {},
     "output_type": "display_data"
    }
   ],
   "source": [
    "trainRaw = read.csv(trainFile)\n",
    "testRaw = read.csv(testFile)\n",
    "dim(trainRaw)\n",
    "dim(testRaw)\n",
    "rm(trainFile)\n",
    "rm(testFile)"
   ]
  },
  {
   "cell_type": "markdown",
   "metadata": {},
   "source": [
    "It should returns\n",
    "\n",
    "19622 160\n",
    "20 160"
   ]
  },
  {
   "cell_type": "markdown",
   "metadata": {},
   "source": [
    "# Data Cleaning"
   ]
  },
  {
   "cell_type": "code",
   "execution_count": 6,
   "metadata": {
    "scrolled": true
   },
   "outputs": [
    {
     "data": {
      "text/html": [
       "<table>\n",
       "<thead><tr><th></th><th scope=col>freqRatio</th><th scope=col>percentUnique</th><th scope=col>zeroVar</th><th scope=col>nzv</th></tr></thead>\n",
       "<tbody>\n",
       "\t<tr><th scope=row>X</th><td>   1.000000 </td><td>100.00000000</td><td>FALSE       </td><td>FALSE       </td></tr>\n",
       "\t<tr><th scope=row>user_name</th><td>   1.100679 </td><td>  0.03057792</td><td>FALSE       </td><td>FALSE       </td></tr>\n",
       "\t<tr><th scope=row>raw_timestamp_part_1</th><td>   1.000000 </td><td>  4.26562022</td><td>FALSE       </td><td>FALSE       </td></tr>\n",
       "\t<tr><th scope=row>raw_timestamp_part_2</th><td>   1.000000 </td><td> 85.53154622</td><td>FALSE       </td><td>FALSE       </td></tr>\n",
       "\t<tr><th scope=row>cvtd_timestamp</th><td>   1.000668 </td><td>  0.10192641</td><td>FALSE       </td><td>FALSE       </td></tr>\n",
       "\t<tr><th scope=row>new_window</th><td>  47.330049 </td><td>  0.01019264</td><td>FALSE       </td><td> TRUE       </td></tr>\n",
       "\t<tr><th scope=row>num_window</th><td>   1.000000 </td><td>  4.37264295</td><td>FALSE       </td><td>FALSE       </td></tr>\n",
       "\t<tr><th scope=row>roll_belt</th><td>   1.101904 </td><td>  6.77810621</td><td>FALSE       </td><td>FALSE       </td></tr>\n",
       "\t<tr><th scope=row>pitch_belt</th><td>   1.036082 </td><td>  9.37722964</td><td>FALSE       </td><td>FALSE       </td></tr>\n",
       "\t<tr><th scope=row>yaw_belt</th><td>   1.058480 </td><td>  9.97349913</td><td>FALSE       </td><td>FALSE       </td></tr>\n",
       "\t<tr><th scope=row>total_accel_belt</th><td>   1.063160 </td><td>  0.14779329</td><td>FALSE       </td><td>FALSE       </td></tr>\n",
       "\t<tr><th scope=row>kurtosis_roll_belt</th><td>1921.600000 </td><td>  2.02323922</td><td>FALSE       </td><td> TRUE       </td></tr>\n",
       "\t<tr><th scope=row>kurtosis_picth_belt</th><td> 600.500000 </td><td>  1.61553358</td><td>FALSE       </td><td> TRUE       </td></tr>\n",
       "\t<tr><th scope=row>kurtosis_yaw_belt</th><td>  47.330049 </td><td>  0.01019264</td><td>FALSE       </td><td> TRUE       </td></tr>\n",
       "\t<tr><th scope=row>skewness_roll_belt</th><td>2135.111111 </td><td>  2.01304658</td><td>FALSE       </td><td> TRUE       </td></tr>\n",
       "\t<tr><th scope=row>skewness_roll_belt.1</th><td> 600.500000 </td><td>  1.72255631</td><td>FALSE       </td><td> TRUE       </td></tr>\n",
       "\t<tr><th scope=row>skewness_yaw_belt</th><td>  47.330049 </td><td>  0.01019264</td><td>FALSE       </td><td> TRUE       </td></tr>\n",
       "\t<tr><th scope=row>max_roll_belt</th><td>   1.000000 </td><td>  0.99378249</td><td>FALSE       </td><td>FALSE       </td></tr>\n",
       "\t<tr><th scope=row>max_picth_belt</th><td>   1.538462 </td><td>  0.11211905</td><td>FALSE       </td><td>FALSE       </td></tr>\n",
       "\t<tr><th scope=row>max_yaw_belt</th><td> 640.533333 </td><td>  0.34654979</td><td>FALSE       </td><td> TRUE       </td></tr>\n",
       "</tbody>\n",
       "</table>\n"
      ],
      "text/latex": [
       "\\begin{tabular}{r|llll}\n",
       "  & freqRatio & percentUnique & zeroVar & nzv\\\\\n",
       "\\hline\n",
       "\tX &    1.000000  & 100.00000000 & FALSE        & FALSE       \\\\\n",
       "\tuser\\_name &    1.100679  &   0.03057792 & FALSE        & FALSE       \\\\\n",
       "\traw\\_timestamp\\_part\\_1 &    1.000000  &   4.26562022 & FALSE        & FALSE       \\\\\n",
       "\traw\\_timestamp\\_part\\_2 &    1.000000  &  85.53154622 & FALSE        & FALSE       \\\\\n",
       "\tcvtd\\_timestamp &    1.000668  &   0.10192641 & FALSE        & FALSE       \\\\\n",
       "\tnew\\_window &   47.330049  &   0.01019264 & FALSE        &  TRUE       \\\\\n",
       "\tnum\\_window &    1.000000  &   4.37264295 & FALSE        & FALSE       \\\\\n",
       "\troll\\_belt &    1.101904  &   6.77810621 & FALSE        & FALSE       \\\\\n",
       "\tpitch\\_belt &    1.036082  &   9.37722964 & FALSE        & FALSE       \\\\\n",
       "\tyaw\\_belt &    1.058480  &   9.97349913 & FALSE        & FALSE       \\\\\n",
       "\ttotal\\_accel\\_belt &    1.063160  &   0.14779329 & FALSE        & FALSE       \\\\\n",
       "\tkurtosis\\_roll\\_belt & 1921.600000  &   2.02323922 & FALSE        &  TRUE       \\\\\n",
       "\tkurtosis\\_picth\\_belt &  600.500000  &   1.61553358 & FALSE        &  TRUE       \\\\\n",
       "\tkurtosis\\_yaw\\_belt &   47.330049  &   0.01019264 & FALSE        &  TRUE       \\\\\n",
       "\tskewness\\_roll\\_belt & 2135.111111  &   2.01304658 & FALSE        &  TRUE       \\\\\n",
       "\tskewness\\_roll\\_belt.1 &  600.500000  &   1.72255631 & FALSE        &  TRUE       \\\\\n",
       "\tskewness\\_yaw\\_belt &   47.330049  &   0.01019264 & FALSE        &  TRUE       \\\\\n",
       "\tmax\\_roll\\_belt &    1.000000  &   0.99378249 & FALSE        & FALSE       \\\\\n",
       "\tmax\\_picth\\_belt &    1.538462  &   0.11211905 & FALSE        & FALSE       \\\\\n",
       "\tmax\\_yaw\\_belt &  640.533333  &   0.34654979 & FALSE        &  TRUE       \\\\\n",
       "\\end{tabular}\n"
      ],
      "text/markdown": [
       "\n",
       "| <!--/--> | freqRatio | percentUnique | zeroVar | nzv |\n",
       "|---|---|---|---|---|\n",
       "| X |    1.000000  | 100.00000000 | FALSE        | FALSE        |\n",
       "| user_name |    1.100679  |   0.03057792 | FALSE        | FALSE        |\n",
       "| raw_timestamp_part_1 |    1.000000  |   4.26562022 | FALSE        | FALSE        |\n",
       "| raw_timestamp_part_2 |    1.000000  |  85.53154622 | FALSE        | FALSE        |\n",
       "| cvtd_timestamp |    1.000668  |   0.10192641 | FALSE        | FALSE        |\n",
       "| new_window |   47.330049  |   0.01019264 | FALSE        |  TRUE        |\n",
       "| num_window |    1.000000  |   4.37264295 | FALSE        | FALSE        |\n",
       "| roll_belt |    1.101904  |   6.77810621 | FALSE        | FALSE        |\n",
       "| pitch_belt |    1.036082  |   9.37722964 | FALSE        | FALSE        |\n",
       "| yaw_belt |    1.058480  |   9.97349913 | FALSE        | FALSE        |\n",
       "| total_accel_belt |    1.063160  |   0.14779329 | FALSE        | FALSE        |\n",
       "| kurtosis_roll_belt | 1921.600000  |   2.02323922 | FALSE        |  TRUE        |\n",
       "| kurtosis_picth_belt |  600.500000  |   1.61553358 | FALSE        |  TRUE        |\n",
       "| kurtosis_yaw_belt |   47.330049  |   0.01019264 | FALSE        |  TRUE        |\n",
       "| skewness_roll_belt | 2135.111111  |   2.01304658 | FALSE        |  TRUE        |\n",
       "| skewness_roll_belt.1 |  600.500000  |   1.72255631 | FALSE        |  TRUE        |\n",
       "| skewness_yaw_belt |   47.330049  |   0.01019264 | FALSE        |  TRUE        |\n",
       "| max_roll_belt |    1.000000  |   0.99378249 | FALSE        | FALSE        |\n",
       "| max_picth_belt |    1.538462  |   0.11211905 | FALSE        | FALSE        |\n",
       "| max_yaw_belt |  640.533333  |   0.34654979 | FALSE        |  TRUE        |\n",
       "\n"
      ],
      "text/plain": [
       "                     freqRatio   percentUnique zeroVar nzv  \n",
       "X                       1.000000 100.00000000  FALSE   FALSE\n",
       "user_name               1.100679   0.03057792  FALSE   FALSE\n",
       "raw_timestamp_part_1    1.000000   4.26562022  FALSE   FALSE\n",
       "raw_timestamp_part_2    1.000000  85.53154622  FALSE   FALSE\n",
       "cvtd_timestamp          1.000668   0.10192641  FALSE   FALSE\n",
       "new_window             47.330049   0.01019264  FALSE    TRUE\n",
       "num_window              1.000000   4.37264295  FALSE   FALSE\n",
       "roll_belt               1.101904   6.77810621  FALSE   FALSE\n",
       "pitch_belt              1.036082   9.37722964  FALSE   FALSE\n",
       "yaw_belt                1.058480   9.97349913  FALSE   FALSE\n",
       "total_accel_belt        1.063160   0.14779329  FALSE   FALSE\n",
       "kurtosis_roll_belt   1921.600000   2.02323922  FALSE    TRUE\n",
       "kurtosis_picth_belt   600.500000   1.61553358  FALSE    TRUE\n",
       "kurtosis_yaw_belt      47.330049   0.01019264  FALSE    TRUE\n",
       "skewness_roll_belt   2135.111111   2.01304658  FALSE    TRUE\n",
       "skewness_roll_belt.1  600.500000   1.72255631  FALSE    TRUE\n",
       "skewness_yaw_belt      47.330049   0.01019264  FALSE    TRUE\n",
       "max_roll_belt           1.000000   0.99378249  FALSE   FALSE\n",
       "max_picth_belt          1.538462   0.11211905  FALSE   FALSE\n",
       "max_yaw_belt          640.533333   0.34654979  FALSE    TRUE"
      ]
     },
     "metadata": {},
     "output_type": "display_data"
    }
   ],
   "source": [
    "nZv = nearZeroVar(trainRaw, saveMetrics = TRUE)\n",
    "head(nZv, 20)"
   ]
  },
  {
   "cell_type": "markdown",
   "metadata": {},
   "source": [
    "We use the function nearZeroVar in order to use only predictors that is useful for us as a variable with variance near to zero cannot permit to discriminate the factors lead to the output. "
   ]
  },
  {
   "cell_type": "code",
   "execution_count": 7,
   "metadata": {},
   "outputs": [
    {
     "data": {
      "text/html": [
       "<ol class=list-inline>\n",
       "\t<li>19622</li>\n",
       "\t<li>100</li>\n",
       "</ol>\n"
      ],
      "text/latex": [
       "\\begin{enumerate*}\n",
       "\\item 19622\n",
       "\\item 100\n",
       "\\end{enumerate*}\n"
      ],
      "text/markdown": [
       "1. 19622\n",
       "2. 100\n",
       "\n",
       "\n"
      ],
      "text/plain": [
       "[1] 19622   100"
      ]
     },
     "metadata": {},
     "output_type": "display_data"
    },
    {
     "data": {
      "text/html": [
       "<ol class=list-inline>\n",
       "\t<li>20</li>\n",
       "\t<li>100</li>\n",
       "</ol>\n"
      ],
      "text/latex": [
       "\\begin{enumerate*}\n",
       "\\item 20\n",
       "\\item 100\n",
       "\\end{enumerate*}\n"
      ],
      "text/markdown": [
       "1. 20\n",
       "2. 100\n",
       "\n",
       "\n"
      ],
      "text/plain": [
       "[1]  20 100"
      ]
     },
     "metadata": {},
     "output_type": "display_data"
    }
   ],
   "source": [
    "training1 =  trainRaw[, !nZv$nzv]\n",
    "testing1 = testRaw[, !nZv$nzv]\n",
    "dim(training1)\n",
    "dim(testing1)"
   ]
  },
  {
   "cell_type": "markdown",
   "metadata": {},
   "source": [
    "It should return\n",
    "\n",
    "19622 100\n",
    "\n",
    "20 100"
   ]
  },
  {
   "cell_type": "code",
   "execution_count": 8,
   "metadata": {},
   "outputs": [],
   "source": [
    "trainingB = training1[, !grepl(\"^X|timestamp|user_name\", names(training1))]\n",
    "testing = testing1[, !grepl(\"^X|timestamp|user_name\", names(training1))]\n"
   ]
  },
  {
   "cell_type": "markdown",
   "metadata": {},
   "source": [
    "We remove those three variable as it does not provide informations to accelerometer measurements"
   ]
  },
  {
   "cell_type": "code",
   "execution_count": 9,
   "metadata": {},
   "outputs": [
    {
     "data": {
      "text/html": [
       "<ol class=list-inline>\n",
       "\t<li>19622</li>\n",
       "\t<li>95</li>\n",
       "</ol>\n"
      ],
      "text/latex": [
       "\\begin{enumerate*}\n",
       "\\item 19622\n",
       "\\item 95\n",
       "\\end{enumerate*}\n"
      ],
      "text/markdown": [
       "1. 19622\n",
       "2. 95\n",
       "\n",
       "\n"
      ],
      "text/plain": [
       "[1] 19622    95"
      ]
     },
     "metadata": {},
     "output_type": "display_data"
    },
    {
     "data": {
      "text/html": [
       "<ol class=list-inline>\n",
       "\t<li>20</li>\n",
       "\t<li>95</li>\n",
       "</ol>\n"
      ],
      "text/latex": [
       "\\begin{enumerate*}\n",
       "\\item 20\n",
       "\\item 95\n",
       "\\end{enumerate*}\n"
      ],
      "text/markdown": [
       "1. 20\n",
       "2. 95\n",
       "\n",
       "\n"
      ],
      "text/plain": [
       "[1] 20 95"
      ]
     },
     "metadata": {},
     "output_type": "display_data"
    }
   ],
   "source": [
    "dim(trainingB)\n",
    "dim(testing)"
   ]
  },
  {
   "cell_type": "markdown",
   "metadata": {},
   "source": [
    "We should have \n",
    "\n",
    "19622 95\n",
    "\n",
    "20 95"
   ]
  },
  {
   "cell_type": "code",
   "execution_count": 10,
   "metadata": {},
   "outputs": [
    {
     "data": {
      "text/html": [
       "<ol class=list-inline>\n",
       "\t<li>19622</li>\n",
       "\t<li>54</li>\n",
       "</ol>\n"
      ],
      "text/latex": [
       "\\begin{enumerate*}\n",
       "\\item 19622\n",
       "\\item 54\n",
       "\\end{enumerate*}\n"
      ],
      "text/markdown": [
       "1. 19622\n",
       "2. 54\n",
       "\n",
       "\n"
      ],
      "text/plain": [
       "[1] 19622    54"
      ]
     },
     "metadata": {},
     "output_type": "display_data"
    },
    {
     "data": {
      "text/html": [
       "<ol class=list-inline>\n",
       "\t<li>20</li>\n",
       "\t<li>54</li>\n",
       "</ol>\n"
      ],
      "text/latex": [
       "\\begin{enumerate*}\n",
       "\\item 20\n",
       "\\item 54\n",
       "\\end{enumerate*}\n"
      ],
      "text/markdown": [
       "1. 20\n",
       "2. 54\n",
       "\n",
       "\n"
      ],
      "text/plain": [
       "[1] 20 54"
      ]
     },
     "metadata": {},
     "output_type": "display_data"
    }
   ],
   "source": [
    "condition=(colSums(is.na(trainingB)) == 0)\n",
    "trainingB = trainingB[, condition]\n",
    "testing = testing[, condition]\n",
    "dim(trainingB)\n",
    "dim(testing)"
   ]
  },
  {
   "cell_type": "markdown",
   "metadata": {},
   "source": [
    "We removed any columns that contain NA to avoid any problems withour algorithms.\n",
    "Now we have a cleaned training data set with 19622 datas and 54 variables and testing data set with 20 observations and 54 variables."
   ]
  },
  {
   "cell_type": "code",
   "execution_count": 10,
   "metadata": {},
   "outputs": [
    {
     "data": {
      "image/png": "[encoded data removed]",
      "text/plain": [
       "Plot with title \"\""
      ]
     },
     "metadata": {},
     "output_type": "display_data"
    }
   ],
   "source": [
    "corrplot(cor(trainingB[, -length(names(trainingB))]), method = \"color\", tl.cex = 0.5)\n"
   ]
  },
  {
   "cell_type": "markdown",
   "metadata": {},
   "source": [
    "# Step to Cross validations : Partitioning Training Set"
   ]
  },
  {
   "cell_type": "code",
   "execution_count": 11,
   "metadata": {},
   "outputs": [
    {
     "data": {
      "text/html": [
       "<ol class=list-inline>\n",
       "\t<li>13737</li>\n",
       "\t<li>54</li>\n",
       "</ol>\n"
      ],
      "text/latex": [
       "\\begin{enumerate*}\n",
       "\\item 13737\n",
       "\\item 54\n",
       "\\end{enumerate*}\n"
      ],
      "text/markdown": [
       "1. 13737\n",
       "2. 54\n",
       "\n",
       "\n"
      ],
      "text/plain": [
       "[1] 13737    54"
      ]
     },
     "metadata": {},
     "output_type": "display_data"
    },
    {
     "data": {
      "text/html": [
       "<ol class=list-inline>\n",
       "\t<li>5885</li>\n",
       "\t<li>54</li>\n",
       "</ol>\n"
      ],
      "text/latex": [
       "\\begin{enumerate*}\n",
       "\\item 5885\n",
       "\\item 54\n",
       "\\end{enumerate*}\n"
      ],
      "text/markdown": [
       "1. 5885\n",
       "2. 54\n",
       "\n",
       "\n"
      ],
      "text/plain": [
       "[1] 5885   54"
      ]
     },
     "metadata": {},
     "output_type": "display_data"
    },
    {
     "data": {
      "text/html": [
       "<ol class=list-inline>\n",
       "\t<li>20</li>\n",
       "\t<li>54</li>\n",
       "</ol>\n"
      ],
      "text/latex": [
       "\\begin{enumerate*}\n",
       "\\item 20\n",
       "\\item 54\n",
       "\\end{enumerate*}\n"
      ],
      "text/markdown": [
       "1. 20\n",
       "2. 54\n",
       "\n",
       "\n"
      ],
      "text/plain": [
       "[1] 20 54"
      ]
     },
     "metadata": {},
     "output_type": "display_data"
    }
   ],
   "source": [
    "inTrain <- createDataPartition(trainingB$classe, p = 0.70, list = FALSE)\n",
    "\n",
    "training <- trainingB[inTrain, ]\n",
    "validation <- trainingB[-inTrain, ]\n",
    "dim(training)\n",
    "dim(validation)\n",
    "dim(testing)"
   ]
  },
  {
   "cell_type": "markdown",
   "metadata": {},
   "source": [
    "We use the carret function : createDataPartition in order to split our training data set to have 70% of training and 30% of validation (optimal farction according to course). We use this validation to have a cross validation.\n",
    "\n",
    "Now we have a training data set with 13737 observations, a validation with 5885 and a testing with 20 observations."
   ]
  },
  {
   "cell_type": "markdown",
   "metadata": {},
   "source": [
    "# Predictive models"
   ]
  },
  {
   "cell_type": "markdown",
   "metadata": {},
   "source": [
    "## Decision Tree"
   ]
  },
  {
   "cell_type": "code",
   "execution_count": 12,
   "metadata": {
    "scrolled": true
   },
   "outputs": [],
   "source": [
    "modFit = train(classe ~ ., method = \"rpart\", data = training,\n",
    "                       trControl=trainControl(method=\"none\"),\n",
    "                       tuneGrid=data.frame(cp=0.001))"
   ]
  },
  {
   "cell_type": "code",
   "execution_count": 13,
   "metadata": {
    "scrolled": false
   },
   "outputs": [
    {
     "name": "stderr",
     "output_type": "stream",
     "text": [
      "Warning message:\n",
      "\"labs do not fit even at cex 0.15, there may be some overplotting\""
     ]
    },
    {
     "data": {
      "text/plain": [
       "Confusion Matrix and Statistics\n",
       "\n",
       "          Reference\n",
       "Prediction    A    B    C    D    E\n",
       "         A 1626   18    9    8   13\n",
       "         B   49  985   61   23   21\n",
       "         C    3   28  928   51   16\n",
       "         D   13   15   54  856   26\n",
       "         E    2   35   18   56  971\n",
       "\n",
       "Overall Statistics\n",
       "                                          \n",
       "               Accuracy : 0.9118          \n",
       "                 95% CI : (0.9043, 0.9189)\n",
       "    No Information Rate : 0.2877          \n",
       "    P-Value [Acc > NIR] : < 2.2e-16       \n",
       "                                          \n",
       "                  Kappa : 0.8884          \n",
       "                                          \n",
       " Mcnemar's Test P-Value : 2.898e-08       \n",
       "\n",
       "Statistics by Class:\n",
       "\n",
       "                     Class: A Class: B Class: C Class: D Class: E\n",
       "Sensitivity            0.9604   0.9112   0.8673   0.8612   0.9274\n",
       "Specificity            0.9885   0.9679   0.9796   0.9779   0.9771\n",
       "Pos Pred Value         0.9713   0.8648   0.9045   0.8880   0.8974\n",
       "Neg Pred Value         0.9841   0.9798   0.9708   0.9720   0.9842\n",
       "Prevalence             0.2877   0.1837   0.1818   0.1689   0.1779\n",
       "Detection Rate         0.2763   0.1674   0.1577   0.1455   0.1650\n",
       "Detection Prevalence   0.2845   0.1935   0.1743   0.1638   0.1839\n",
       "Balanced Accuracy      0.9745   0.9396   0.9235   0.9195   0.9522"
      ]
     },
     "metadata": {},
     "output_type": "display_data"
    },
    {
     "data": {
      "image/png": "[encoded data removed]",
      "text/plain": [
       "Plot with title \"\""
      ]
     },
     "metadata": {},
     "output_type": "display_data"
    }
   ],
   "source": [
    "fancyRpartPlot(modFit$finalModel)\n",
    "predictTree = predict(modFit, validation, type = \"raw\")\n",
    "confusionMatrix(validation$classe, predictTree)\n"
   ]
  },
  {
   "cell_type": "markdown",
   "metadata": {},
   "source": [
    "Even with fancyrpartplot we can't see the tree but, we can see that there are a lot of seeds which can lead to an overfitting.\n",
    "\n",
    "Yet, with the conffusion matrix on prediction on validation we have an accuracy of 91% which is raher good."
   ]
  },
  {
   "cell_type": "code",
   "execution_count": 14,
   "metadata": {},
   "outputs": [
    {
     "name": "stdout",
     "output_type": "stream",
     "text": [
      " Accuracy     Kappa \n",
      "0.9118097 0.8884431 \n"
     ]
    }
   ],
   "source": [
    "print(postResample(predictTree, validation$classe))"
   ]
  },
  {
   "cell_type": "markdown",
   "metadata": {},
   "source": [
    "<font color='red'>We have an accuracy of 0.91 with the tree modelling </font>"
   ]
  },
  {
   "cell_type": "markdown",
   "metadata": {},
   "source": [
    "## Random Forest"
   ]
  },
  {
   "cell_type": "markdown",
   "metadata": {},
   "source": [
    "We use a predictive model for activity recognition using Random Forest as it selects important variables.\n",
    "We will use 5-fold cross validation when applying the algorithm."
   ]
  },
  {
   "cell_type": "code",
   "execution_count": 15,
   "metadata": {},
   "outputs": [],
   "source": [
    "modelFitRandom <- train(classe ~ ., data = training, method = \"rf\", trControl = trainControl(method = \"cv\", 5), ntree = 10)\n"
   ]
  },
  {
   "cell_type": "markdown",
   "metadata": {},
   "source": [
    "We have a better accuracy than decision tree as expected"
   ]
  },
  {
   "cell_type": "code",
   "execution_count": 17,
   "metadata": {},
   "outputs": [
    {
     "data": {
      "text/plain": [
       "Random Forest \n",
       "\n",
       "13737 samples\n",
       "   53 predictor\n",
       "    5 classes: 'A', 'B', 'C', 'D', 'E' \n",
       "\n",
       "No pre-processing\n",
       "Resampling: Cross-Validated (5 fold) \n",
       "Summary of sample sizes: 10990, 10989, 10990, 10989, 10990 \n",
       "Resampling results across tuning parameters:\n",
       "\n",
       "  mtry  Accuracy   Kappa    \n",
       "   2    0.9805634  0.9754097\n",
       "  27    0.9928658  0.9909763\n",
       "  53    0.9879888  0.9848072\n",
       "\n",
       "Accuracy was used to select the optimal model using the largest value.\n",
       "The final value used for the model was mtry = 27."
      ]
     },
     "metadata": {},
     "output_type": "display_data"
    }
   ],
   "source": [
    "modelFitRandom"
   ]
  },
  {
   "cell_type": "code",
   "execution_count": 18,
   "metadata": {},
   "outputs": [
    {
     "data": {
      "text/plain": [
       "Confusion Matrix and Statistics\n",
       "\n",
       "          Reference\n",
       "Prediction    A    B    C    D    E\n",
       "         A 1672    2    0    0    0\n",
       "         B    8 1126    5    0    0\n",
       "         C    0    8 1016    2    0\n",
       "         D    0    0    7  957    0\n",
       "         E    0    2    0    5 1075\n",
       "\n",
       "Overall Statistics\n",
       "                                         \n",
       "               Accuracy : 0.9934         \n",
       "                 95% CI : (0.991, 0.9953)\n",
       "    No Information Rate : 0.2855         \n",
       "    P-Value [Acc > NIR] : < 2.2e-16      \n",
       "                                         \n",
       "                  Kappa : 0.9916         \n",
       "                                         \n",
       " Mcnemar's Test P-Value : NA             \n",
       "\n",
       "Statistics by Class:\n",
       "\n",
       "                     Class: A Class: B Class: C Class: D Class: E\n",
       "Sensitivity            0.9952   0.9895   0.9883   0.9927   1.0000\n",
       "Specificity            0.9995   0.9973   0.9979   0.9986   0.9985\n",
       "Pos Pred Value         0.9988   0.9886   0.9903   0.9927   0.9935\n",
       "Neg Pred Value         0.9981   0.9975   0.9975   0.9986   1.0000\n",
       "Prevalence             0.2855   0.1934   0.1747   0.1638   0.1827\n",
       "Detection Rate         0.2841   0.1913   0.1726   0.1626   0.1827\n",
       "Detection Prevalence   0.2845   0.1935   0.1743   0.1638   0.1839\n",
       "Balanced Accuracy      0.9974   0.9934   0.9931   0.9957   0.9993"
      ]
     },
     "metadata": {},
     "output_type": "display_data"
    }
   ],
   "source": [
    "predictRF = predict(modelFitRandom, validation)\n",
    "confusionMatrix(validation$classe, predictRF)"
   ]
  },
  {
   "cell_type": "code",
   "execution_count": 19,
   "metadata": {},
   "outputs": [
    {
     "name": "stdout",
     "output_type": "stream",
     "text": [
      " Accuracy     Kappa \n",
      "0.9933730 0.9916167 \n"
     ]
    }
   ],
   "source": [
    "print(postResample(predictRF, validation$classe))"
   ]
  },
  {
   "cell_type": "markdown",
   "metadata": {},
   "source": [
    "<font color='red'>We have an accuracy of 0.99 which is better than decision tree as expected</font>"
   ]
  },
  {
   "cell_type": "markdown",
   "metadata": {},
   "source": [
    "# Predicting for Test Data Set"
   ]
  },
  {
   "cell_type": "code",
   "execution_count": 22,
   "metadata": {},
   "outputs": [
    {
     "data": {
      "text/html": [
       "<ol class=list-inline>\n",
       "\t<li>B</li>\n",
       "\t<li>A</li>\n",
       "\t<li>B</li>\n",
       "\t<li>A</li>\n",
       "\t<li>A</li>\n",
       "\t<li>E</li>\n",
       "\t<li>D</li>\n",
       "\t<li>B</li>\n",
       "\t<li>A</li>\n",
       "\t<li>A</li>\n",
       "\t<li>B</li>\n",
       "\t<li>C</li>\n",
       "\t<li>B</li>\n",
       "\t<li>A</li>\n",
       "\t<li>E</li>\n",
       "\t<li>E</li>\n",
       "\t<li>A</li>\n",
       "\t<li>B</li>\n",
       "\t<li>B</li>\n",
       "\t<li>B</li>\n",
       "</ol>\n",
       "\n",
       "<details>\n",
       "\t<summary style=display:list-item;cursor:pointer>\n",
       "\t\t<strong>Levels</strong>:\n",
       "\t</summary>\n",
       "\t<ol class=list-inline>\n",
       "\t\t<li>'A'</li>\n",
       "\t\t<li>'B'</li>\n",
       "\t\t<li>'C'</li>\n",
       "\t\t<li>'D'</li>\n",
       "\t\t<li>'E'</li>\n",
       "\t</ol>\n",
       "</details>"
      ],
      "text/latex": [
       "\\begin{enumerate*}\n",
       "\\item B\n",
       "\\item A\n",
       "\\item B\n",
       "\\item A\n",
       "\\item A\n",
       "\\item E\n",
       "\\item D\n",
       "\\item B\n",
       "\\item A\n",
       "\\item A\n",
       "\\item B\n",
       "\\item C\n",
       "\\item B\n",
       "\\item A\n",
       "\\item E\n",
       "\\item E\n",
       "\\item A\n",
       "\\item B\n",
       "\\item B\n",
       "\\item B\n",
       "\\end{enumerate*}\n",
       "\n",
       "\\emph{Levels}: \\begin{enumerate*}\n",
       "\\item 'A'\n",
       "\\item 'B'\n",
       "\\item 'C'\n",
       "\\item 'D'\n",
       "\\item 'E'\n",
       "\\end{enumerate*}\n"
      ],
      "text/markdown": [
       "1. B\n",
       "2. A\n",
       "3. B\n",
       "4. A\n",
       "5. A\n",
       "6. E\n",
       "7. D\n",
       "8. B\n",
       "9. A\n",
       "10. A\n",
       "11. B\n",
       "12. C\n",
       "13. B\n",
       "14. A\n",
       "15. E\n",
       "16. E\n",
       "17. A\n",
       "18. B\n",
       "19. B\n",
       "20. B\n",
       "\n",
       "\n",
       "\n",
       "**Levels**: 1. 'A'\n",
       "2. 'B'\n",
       "3. 'C'\n",
       "4. 'D'\n",
       "5. 'E'\n",
       "\n",
       "\n"
      ],
      "text/plain": [
       " [1] B A B A A E D B A A B C B A E E A B B B\n",
       "Levels: A B C D E"
      ]
     },
     "metadata": {},
     "output_type": "display_data"
    }
   ],
   "source": [
    "predict(modelFitRandom, testing[, -length(names(testing))])"
   ]
  },
  {
   "cell_type": "code",
   "execution_count": null,
   "metadata": {},
   "outputs": [],
   "source": []
  }
 ],
 "metadata": {
  "kernelspec": {
   "display_name": "R",
   "language": "R",
   "name": "ir"
  },
  "language_info": {
   "codemirror_mode": "r",
   "file_extension": ".r",
   "mimetype": "text/x-r-source",
   "name": "R",
   "pygments_lexer": "r",
   "version": "3.6.1"
  }
 },
 "nbformat": 4,
 "nbformat_minor": 4
}
